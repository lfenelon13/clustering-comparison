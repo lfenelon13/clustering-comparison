{
 "cells": [
  {
   "cell_type": "code",
   "execution_count": 37,
   "metadata": {},
   "outputs": [],
   "source": [
    "import requests\n",
    "import pandas as pd\n",
    "from sklearn.cluster import KMeans\n",
    "import matplotlib.pyplot as plt\n",
    "from adjustText import adjust_text"
   ]
  },
  {
   "cell_type": "markdown",
   "metadata": {},
   "source": [
    "K-means using sklearn"
   ]
  },
  {
   "cell_type": "code",
   "execution_count": 38,
   "metadata": {},
   "outputs": [],
   "source": [
    "# 1. Fetch data from OpenWeatherMap API\n",
    "API_KEY = '54248532ff82c2114d1f61f8c1632333'\n",
    "cities = [\n",
    "   'London', 'New York', 'Paris', 'Tokyo', 'Mumbai', 'Beijing', 'Berlin', \n",
    "   'Sydney', 'Cairo', 'Rio de Janeiro', 'Moscow', 'Cape Town', 'Toronto', \n",
    "   'Buenos Aires', 'Bangkok', 'Dubai', 'Singapore', 'Seoul', 'Los Angeles', \n",
    "   'Mexico City'\n",
    "]\n",
    "weather_data = []\n",
    "\n",
    "for city in cities:\n",
    "   url = f\"http://api.openweathermap.org/data/2.5/weather?q={city}&appid={API_KEY}&units=metric\"\n",
    "   response = requests.get(url)\n",
    "   if response.status_code == 200:\n",
    "      data = response.json()\n",
    "      weather_data.append({\n",
    "         'city': city,\n",
    "         'temperature': data['main']['temp'],\n",
    "         'humidity': data['main']['humidity']\n",
    "      })"
   ]
  },
  {
   "cell_type": "code",
   "execution_count": 39,
   "metadata": {},
   "outputs": [
    {
     "data": {
      "text/html": [
       "<div>\n",
       "<style scoped>\n",
       "    .dataframe tbody tr th:only-of-type {\n",
       "        vertical-align: middle;\n",
       "    }\n",
       "\n",
       "    .dataframe tbody tr th {\n",
       "        vertical-align: top;\n",
       "    }\n",
       "\n",
       "    .dataframe thead th {\n",
       "        text-align: right;\n",
       "    }\n",
       "</style>\n",
       "<table border=\"1\" class=\"dataframe\">\n",
       "  <thead>\n",
       "    <tr style=\"text-align: right;\">\n",
       "      <th></th>\n",
       "      <th>city</th>\n",
       "      <th>temperature</th>\n",
       "      <th>humidity</th>\n",
       "    </tr>\n",
       "  </thead>\n",
       "  <tbody>\n",
       "    <tr>\n",
       "      <th>0</th>\n",
       "      <td>London</td>\n",
       "      <td>5.60</td>\n",
       "      <td>89</td>\n",
       "    </tr>\n",
       "    <tr>\n",
       "      <th>1</th>\n",
       "      <td>New York</td>\n",
       "      <td>-11.33</td>\n",
       "      <td>60</td>\n",
       "    </tr>\n",
       "    <tr>\n",
       "      <th>2</th>\n",
       "      <td>Paris</td>\n",
       "      <td>0.45</td>\n",
       "      <td>100</td>\n",
       "    </tr>\n",
       "    <tr>\n",
       "      <th>3</th>\n",
       "      <td>Tokyo</td>\n",
       "      <td>8.77</td>\n",
       "      <td>67</td>\n",
       "    </tr>\n",
       "    <tr>\n",
       "      <th>4</th>\n",
       "      <td>Mumbai</td>\n",
       "      <td>27.99</td>\n",
       "      <td>44</td>\n",
       "    </tr>\n",
       "    <tr>\n",
       "      <th>5</th>\n",
       "      <td>Beijing</td>\n",
       "      <td>0.94</td>\n",
       "      <td>26</td>\n",
       "    </tr>\n",
       "    <tr>\n",
       "      <th>6</th>\n",
       "      <td>Berlin</td>\n",
       "      <td>0.14</td>\n",
       "      <td>89</td>\n",
       "    </tr>\n",
       "    <tr>\n",
       "      <th>7</th>\n",
       "      <td>Sydney</td>\n",
       "      <td>21.01</td>\n",
       "      <td>79</td>\n",
       "    </tr>\n",
       "    <tr>\n",
       "      <th>8</th>\n",
       "      <td>Cairo</td>\n",
       "      <td>23.42</td>\n",
       "      <td>20</td>\n",
       "    </tr>\n",
       "    <tr>\n",
       "      <th>9</th>\n",
       "      <td>Rio de Janeiro</td>\n",
       "      <td>28.98</td>\n",
       "      <td>84</td>\n",
       "    </tr>\n",
       "    <tr>\n",
       "      <th>10</th>\n",
       "      <td>Moscow</td>\n",
       "      <td>-4.08</td>\n",
       "      <td>56</td>\n",
       "    </tr>\n",
       "    <tr>\n",
       "      <th>11</th>\n",
       "      <td>Cape Town</td>\n",
       "      <td>29.13</td>\n",
       "      <td>55</td>\n",
       "    </tr>\n",
       "    <tr>\n",
       "      <th>12</th>\n",
       "      <td>Toronto</td>\n",
       "      <td>-14.92</td>\n",
       "      <td>62</td>\n",
       "    </tr>\n",
       "    <tr>\n",
       "      <th>13</th>\n",
       "      <td>Buenos Aires</td>\n",
       "      <td>22.66</td>\n",
       "      <td>75</td>\n",
       "    </tr>\n",
       "    <tr>\n",
       "      <th>14</th>\n",
       "      <td>Bangkok</td>\n",
       "      <td>30.32</td>\n",
       "      <td>40</td>\n",
       "    </tr>\n",
       "    <tr>\n",
       "      <th>15</th>\n",
       "      <td>Dubai</td>\n",
       "      <td>22.96</td>\n",
       "      <td>35</td>\n",
       "    </tr>\n",
       "    <tr>\n",
       "      <th>16</th>\n",
       "      <td>Singapore</td>\n",
       "      <td>24.58</td>\n",
       "      <td>85</td>\n",
       "    </tr>\n",
       "    <tr>\n",
       "      <th>17</th>\n",
       "      <td>Seoul</td>\n",
       "      <td>2.01</td>\n",
       "      <td>62</td>\n",
       "    </tr>\n",
       "    <tr>\n",
       "      <th>18</th>\n",
       "      <td>Los Angeles</td>\n",
       "      <td>8.89</td>\n",
       "      <td>26</td>\n",
       "    </tr>\n",
       "    <tr>\n",
       "      <th>19</th>\n",
       "      <td>Mexico City</td>\n",
       "      <td>11.64</td>\n",
       "      <td>58</td>\n",
       "    </tr>\n",
       "  </tbody>\n",
       "</table>\n",
       "</div>"
      ],
      "text/plain": [
       "              city  temperature  humidity\n",
       "0           London         5.60        89\n",
       "1         New York       -11.33        60\n",
       "2            Paris         0.45       100\n",
       "3            Tokyo         8.77        67\n",
       "4           Mumbai        27.99        44\n",
       "5          Beijing         0.94        26\n",
       "6           Berlin         0.14        89\n",
       "7           Sydney        21.01        79\n",
       "8            Cairo        23.42        20\n",
       "9   Rio de Janeiro        28.98        84\n",
       "10          Moscow        -4.08        56\n",
       "11       Cape Town        29.13        55\n",
       "12         Toronto       -14.92        62\n",
       "13    Buenos Aires        22.66        75\n",
       "14         Bangkok        30.32        40\n",
       "15           Dubai        22.96        35\n",
       "16       Singapore        24.58        85\n",
       "17           Seoul         2.01        62\n",
       "18     Los Angeles         8.89        26\n",
       "19     Mexico City        11.64        58"
      ]
     },
     "execution_count": 39,
     "metadata": {},
     "output_type": "execute_result"
    }
   ],
   "source": [
    "# 2. Convert to DataFrame\n",
    "df = pd.DataFrame(weather_data)\n",
    "\n",
    "df"
   ]
  },
  {
   "cell_type": "code",
   "execution_count": 40,
   "metadata": {},
   "outputs": [
    {
     "name": "stderr",
     "output_type": "stream",
     "text": [
      "c:\\Users\\lfenelon\\AppData\\Local\\miniconda3\\Lib\\site-packages\\sklearn\\cluster\\_kmeans.py:1429: UserWarning: KMeans is known to have a memory leak on Windows with MKL, when there are less chunks than available threads. You can avoid it by setting the environment variable OMP_NUM_THREADS=1.\n",
      "  warnings.warn(\n"
     ]
    }
   ],
   "source": [
    "# 3. Perform K-Means Clustering\n",
    "X = df[['temperature', 'humidity']]\n",
    "kmeans = KMeans(n_clusters=3, random_state=42)\n",
    "df['cluster'] = kmeans.fit_predict(X)"
   ]
  },
  {
   "cell_type": "code",
   "execution_count": 41,
   "metadata": {},
   "outputs": [
    {
     "data": {
      "image/png": "[encoded data removed]",
      "text/plain": [
       "<Figure size 640x480 with 1 Axes>"
      ]
     },
     "metadata": {},
     "output_type": "display_data"
    }
   ],
   "source": [
    "# 4. Visualize the Clusters\n",
    "plt.scatter(df['temperature'], df['humidity'], c=df['cluster'], cmap='viridis')\n",
    "plt.xlabel('Temperature (°C)')\n",
    "plt.ylabel('Humidity (%)')\n",
    "\n",
    "texts = []\n",
    "for i, row in df.iterrows():\n",
    "    texts.append(plt.text(row['temperature'], row['humidity'], row['city'], fontsize=10))\n",
    "adjust_text(texts, arrowprops=dict(arrowstyle='->', color='gray', lw=0.5))\n",
    "\n",
    "plt.tight_layout()\n",
    "plt.title('K-Means Clustering of Weather Data')\n",
    "plt.show()"
   ]
  },
  {
   "cell_type": "code",
   "execution_count": 42,
   "metadata": {},
   "outputs": [
    {
     "name": "stdout",
     "output_type": "stream",
     "text": [
      "              city  temperature  humidity  cluster\n",
      "0           London         5.60        89        0\n",
      "1         New York       -11.33        60        2\n",
      "2            Paris         0.45       100        0\n",
      "3            Tokyo         8.77        67        2\n",
      "4           Mumbai        27.99        44        1\n",
      "5          Beijing         0.94        26        1\n",
      "6           Berlin         0.14        89        0\n",
      "7           Sydney        21.01        79        0\n",
      "8            Cairo        23.42        20        1\n",
      "9   Rio de Janeiro        28.98        84        0\n",
      "10          Moscow        -4.08        56        2\n",
      "11       Cape Town        29.13        55        1\n",
      "12         Toronto       -14.92        62        2\n",
      "13    Buenos Aires        22.66        75        0\n",
      "14         Bangkok        30.32        40        1\n",
      "15           Dubai        22.96        35        1\n",
      "16       Singapore        24.58        85        0\n",
      "17           Seoul         2.01        62        2\n",
      "18     Los Angeles         8.89        26        1\n",
      "19     Mexico City        11.64        58        2\n"
     ]
    }
   ],
   "source": [
    "# Print the results\n",
    "print(df)"
   ]
  },
  {
   "cell_type": "markdown",
   "metadata": {},
   "source": [
    "K-means from scratch"
   ]
  },
  {
   "cell_type": "markdown",
   "metadata": {},
   "source": []
  }
 ],
 "metadata": {
  "kernelspec": {
   "display_name": "base",
   "language": "python",
   "name": "python3"
  },
  "language_info": {
   "codemirror_mode": {
    "name": "ipython",
    "version": 3
   },
   "file_extension": ".py",
   "mimetype": "text/x-python",
   "name": "python",
   "nbconvert_exporter": "python",
   "pygments_lexer": "ipython3",
   "version": "3.12.7"
  }
 },
 "nbformat": 4,
 "nbformat_minor": 2
}
